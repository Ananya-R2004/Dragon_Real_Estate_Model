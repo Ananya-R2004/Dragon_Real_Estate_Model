{
 "cells": [
  {
   "cell_type": "code",
   "execution_count": 2,
   "id": "cd30293a-9911-417d-bc4f-ecd039950f41",
   "metadata": {},
   "outputs": [],
   "source": [
    "import pandas as pd\n",
    "from joblib import load\n",
    "\n",
    "# Load the trained pipeline and model\n",
    "pipeline = load(\"dragon_pipeline.joblib\")\n",
    "model = load(\"Dragon.joblib\")\n",
    "\n",
    "# Load your full dataset\n",
    "data = pd.read_csv(\"Data.csv\")\n",
    "\n",
    "# Process data with pipeline (same transformations used during training)\n",
    "X = pipeline.transform(data)\n",
    "\n",
    "# Get predictions\n",
    "predictions = model.predict(X)\n",
    "\n",
    "# Add predictions to original data\n",
    "data[\"PredictedPrice\"] = predictions\n"
   ]
  },
  {
   "cell_type": "code",
   "execution_count": 4,
   "id": "b0f534fb-91d7-4daa-bea3-c753073ce278",
   "metadata": {},
   "outputs": [],
   "source": [
    "data.to_csv(\"Predicted_Data.csv\", index=False)"
   ]
  },
  {
   "cell_type": "code",
   "execution_count": null,
   "id": "e12ecde3-7932-41cf-89bd-702b659107b6",
   "metadata": {},
   "outputs": [],
   "source": []
  }
 ],
 "metadata": {
  "kernelspec": {
   "display_name": "Python 3 (ipykernel)",
   "language": "python",
   "name": "python3"
  },
  "language_info": {
   "codemirror_mode": {
    "name": "ipython",
    "version": 3
   },
   "file_extension": ".py",
   "mimetype": "text/x-python",
   "name": "python",
   "nbconvert_exporter": "python",
   "pygments_lexer": "ipython3",
   "version": "3.12.7"
  }
 },
 "nbformat": 4,
 "nbformat_minor": 5
}
